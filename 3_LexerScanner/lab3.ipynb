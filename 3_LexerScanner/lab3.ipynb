{
 "cells": [
  {
   "cell_type": "markdown",
   "metadata": {},
   "source": [
    "# Laboratory 3"
   ]
  },
  {
   "cell_type": "code",
   "execution_count": 13,
   "metadata": {},
   "outputs": [],
   "source": [
    "from lexer import lexer"
   ]
  },
  {
   "cell_type": "markdown",
   "metadata": {},
   "source": [
    "## Tokenize function"
   ]
  },
  {
   "cell_type": "markdown",
   "metadata": {},
   "source": [
    "It tokenizes the input string and prints the tokens."
   ]
  },
  {
   "cell_type": "code",
   "execution_count": 14,
   "metadata": {},
   "outputs": [],
   "source": [
    "def tokenize(s):\n",
    "    lexer.input(s)\n",
    "    while True:\n",
    "        tok = lexer.token()\n",
    "        if not tok:\n",
    "            break\n",
    "        print(tok)"
   ]
  },
  {
   "cell_type": "markdown",
   "metadata": {},
   "source": [
    "## Basic examples"
   ]
  },
  {
   "cell_type": "code",
   "execution_count": 15,
   "metadata": {},
   "outputs": [
    {
     "name": "stdout",
     "output_type": "stream",
     "text": [
      "LexToken(START_COMMAND,'imp',1,0)\n",
      "LexToken(FLAG,'help',1,4)\n"
     ]
    }
   ],
   "source": [
    "tokenize('imp --help')"
   ]
  },
  {
   "cell_type": "code",
   "execution_count": 16,
   "metadata": {},
   "outputs": [
    {
     "name": "stdout",
     "output_type": "stream",
     "text": [
      "LexToken(START_COMMAND,'imp',1,0)\n",
      "LexToken(COMMAND,'crop',1,4)\n",
      "LexToken(FLAG,'img',1,9)\n",
      "LexToken(EQUALS,'=',1,14)\n",
      "LexToken(IMAGE_PATH,'path/to/image.jpg',1,15)\n",
      "LexToken(FLAG,'x',1,35)\n",
      "LexToken(EQUALS,'=',1,38)\n",
      "LexToken(NUMBER,'100',1,39)\n",
      "LexToken(FLAG,'y',1,43)\n",
      "LexToken(EQUALS,'=',1,46)\n",
      "LexToken(NUMBER,'100',1,47)\n",
      "LexToken(FLAG,'w',1,51)\n",
      "LexToken(EQUALS,'=',1,54)\n",
      "LexToken(NUMBER,'200',1,55)\n",
      "LexToken(FLAG,'h',1,59)\n",
      "LexToken(EQUALS,'=',1,62)\n",
      "LexToken(NUMBER,'200',1,63)\n"
     ]
    }
   ],
   "source": [
    "tokenize('imp crop --img=\"path/to/image.jpg\" --x=100 --y=100 --w=200 --h=200')"
   ]
  },
  {
   "cell_type": "code",
   "execution_count": 17,
   "metadata": {},
   "outputs": [
    {
     "name": "stdout",
     "output_type": "stream",
     "text": [
      "LexToken(START_COMMAND,'imp',1,0)\n",
      "LexToken(COMMAND,'compress',1,4)\n",
      "LexToken(FLAG,'img',1,13)\n",
      "LexToken(EQUALS,'=',1,18)\n",
      "LexToken(FOLDER_PATH,'./path/to/folder/',1,19)\n"
     ]
    }
   ],
   "source": [
    "tokenize('imp compress --img=\"./path/to/folder/\"')"
   ]
  },
  {
   "cell_type": "code",
   "execution_count": 18,
   "metadata": {},
   "outputs": [
    {
     "name": "stdout",
     "output_type": "stream",
     "text": [
      "LexToken(START_COMMAND,'imp',1,0)\n",
      "LexToken(COMMAND,'convert',1,4)\n",
      "LexToken(FLAG,'img',1,12)\n",
      "LexToken(EQUALS,'=',1,17)\n",
      "LexToken(IMAGE_PATH,'path/to/image.jpg',1,18)\n",
      "LexToken(FLAG,'format',1,38)\n",
      "LexToken(EQUALS,'=',1,46)\n",
      "LexToken(IMG_FORMAT,'png',1,47)\n"
     ]
    }
   ],
   "source": [
    "tokenize('imp convert --img=\"path/to/image.jpg\" --format=\"png\"')"
   ]
  },
  {
   "cell_type": "markdown",
   "metadata": {},
   "source": [
    "## Advanced examples"
   ]
  },
  {
   "cell_type": "code",
   "execution_count": 19,
   "metadata": {},
   "outputs": [
    {
     "name": "stdout",
     "output_type": "stream",
     "text": [
      "LexToken(START_COMMAND,'imp',1,0)\n",
      "LexToken(COMMAND,'blur',1,4)\n",
      "LexToken(FLAG,'img',1,9)\n",
      "LexToken(EQUALS,'=',1,14)\n",
      "LexToken(IMAGE_PATH,'C:/path/to/image.webp',1,15)\n",
      "LexToken(FLAG,'lvl',1,39)\n",
      "LexToken(EQUALS,'=',1,44)\n",
      "LexToken(NUMBER,'50',1,45)\n",
      "LexToken(AND,'&&',1,48)\n",
      "LexToken(START_COMMAND,'imp',1,51)\n",
      "LexToken(COMMAND,'th',1,55)\n",
      "LexToken(FLAG,'img',1,58)\n",
      "LexToken(EQUALS,'=',1,63)\n",
      "LexToken(IMAGE_PATH,'./path/to/image.png',1,64)\n",
      "LexToken(FLAG,'lvl',1,86)\n",
      "LexToken(EQUALS,'=',1,91)\n",
      "LexToken(NUMBER,'20',1,92)\n"
     ]
    }
   ],
   "source": [
    "tokenize('imp blur --img=\"C:/path/to/image.webp\" --lvl=50 && imp th --img=\"./path/to/image.png\" --lvl=20')"
   ]
  },
  {
   "cell_type": "code",
   "execution_count": 20,
   "metadata": {},
   "outputs": [
    {
     "name": "stdout",
     "output_type": "stream",
     "text": [
      "LexToken(START_COMMAND,'imp',1,0)\n",
      "LexToken(FLAG,'img',1,4)\n",
      "LexToken(EQUALS,'=',1,9)\n",
      "LexToken(IMAGE_PATH,'path/to/image.png',1,10)\n",
      "LexToken(PIPELINE,'->',1,30)\n",
      "LexToken(COMMAND,'resize',1,33)\n",
      "LexToken(FLAG,'w',1,40)\n",
      "LexToken(EQUALS,'=',1,43)\n",
      "LexToken(NUMBER,'200',1,44)\n",
      "LexToken(FLAG,'h',1,48)\n",
      "LexToken(EQUALS,'=',1,51)\n",
      "LexToken(NUMBER,'200',1,52)\n",
      "LexToken(PIPELINE,'->',1,56)\n",
      "LexToken(COMMAND,'crop',1,59)\n",
      "LexToken(FLAG,'x',1,64)\n",
      "LexToken(EQUALS,'=',1,67)\n",
      "LexToken(NUMBER,'50',1,68)\n",
      "LexToken(FLAG,'y',1,71)\n",
      "LexToken(EQUALS,'=',1,74)\n",
      "LexToken(NUMBER,'50',1,75)\n",
      "LexToken(FLAG,'w',1,78)\n",
      "LexToken(EQUALS,'=',1,81)\n",
      "LexToken(NUMBER,'100',1,82)\n",
      "LexToken(FLAG,'h',1,86)\n",
      "LexToken(EQUALS,'=',1,89)\n",
      "LexToken(NUMBER,'100',1,90)\n",
      "LexToken(PIPELINE,'->',1,94)\n",
      "LexToken(COMMAND,'convert',1,97)\n",
      "LexToken(FLAG,'format',1,105)\n",
      "LexToken(EQUALS,'=',1,113)\n",
      "LexToken(IMG_FORMAT,'jpg',1,114)\n"
     ]
    }
   ],
   "source": [
    "tokenize('imp --img=\"path/to/image.png\" -> resize --w=200 --h=200 -> crop --x=50 --y=50 --w=100 --h=100 -> convert --format=\"jpg\"')"
   ]
  },
  {
   "cell_type": "markdown",
   "metadata": {},
   "source": [
    "## Error handling"
   ]
  },
  {
   "cell_type": "markdown",
   "metadata": {},
   "source": [
    "Sice the only acceptable string flags are file & folder paths and image formats, strings that do not match these criteria will be considered as unknown options."
   ]
  },
  {
   "cell_type": "code",
   "execution_count": 21,
   "metadata": {},
   "outputs": [
    {
     "name": "stdout",
     "output_type": "stream",
     "text": [
      "LexToken(START_COMMAND,'imp',1,0)\n",
      "LexToken(COMMAND,'convert',1,4)\n",
      "LexToken(FLAG,'img',1,12)\n",
      "LexToken(EQUALS,'=',1,17)\n",
      "LexToken(IMAGE_PATH,'path/to/image.tiff',1,18)\n",
      "LexToken(FLAG,'format',1,39)\n",
      "LexToken(EQUALS,'=',1,47)\n",
      "LexToken(UNKNOWN_STRING,'jpfg',1,48)\n"
     ]
    }
   ],
   "source": [
    "tokenize('imp convert --img=\"path/to/image.tiff\" --format=\"jpfg\"')"
   ]
  },
  {
   "cell_type": "markdown",
   "metadata": {},
   "source": [
    "The lexer also checks for the validity of commands and the flags that are passed to them. "
   ]
  },
  {
   "cell_type": "code",
   "execution_count": 22,
   "metadata": {},
   "outputs": [
    {
     "name": "stdout",
     "output_type": "stream",
     "text": [
      "LexToken(START_COMMAND,'imp',1,0)\n",
      "Unknown command 'covert' at position 4\n",
      "LexToken(FLAG,'img',1,11)\n",
      "LexToken(EQUALS,'=',1,16)\n",
      "LexToken(IMAGE_PATH,'path/to/image.tiff',1,17)\n",
      "LexToken(FLAG,'format',1,38)\n",
      "LexToken(EQUALS,'=',1,46)\n",
      "LexToken(IMG_FORMAT,'jpeg',1,47)\n"
     ]
    }
   ],
   "source": [
    "tokenize('imp covert --img=\"path/to/image.tiff\" --format=\"jpeg\"')"
   ]
  },
  {
   "cell_type": "code",
   "execution_count": 23,
   "metadata": {},
   "outputs": [
    {
     "name": "stdout",
     "output_type": "stream",
     "text": [
      "LexToken(START_COMMAND,'imp',1,0)\n",
      "LexToken(COMMAND,'convert',1,4)\n",
      "LexToken(FLAG,'img',1,12)\n",
      "LexToken(EQUALS,'=',1,17)\n",
      "LexToken(IMAGE_PATH,'path/to/image.tiff',1,18)\n",
      "Unknown flag 'formt' at position 39\n",
      "LexToken(IMG_FORMAT,'jpg',1,47)\n"
     ]
    }
   ],
   "source": [
    "tokenize('imp convert --img=\"path/to/image.tiff\" --formt=\"jpg\"')"
   ]
  },
  {
   "cell_type": "markdown",
   "metadata": {},
   "source": [
    "The ply module has a built-in error handling mechanism that will raise an error if a character is not recognized. "
   ]
  },
  {
   "cell_type": "code",
   "execution_count": 24,
   "metadata": {},
   "outputs": [
    {
     "name": "stdout",
     "output_type": "stream",
     "text": [
      "LexToken(START_COMMAND,'imp',1,0)\n",
      "LexToken(FLAG,'img',1,4)\n",
      "LexToken(EQUALS,'=',1,9)\n",
      "LexToken(IMAGE_PATH,'path/to/image.png',1,10)\n",
      "Illegal character '|' at position 30\n",
      "LexToken(COMMAND,'bw',1,32)\n",
      "Illegal character '|' at position 35\n",
      "LexToken(COMMAND,'blur',1,37)\n",
      "LexToken(FLAG,'lvl',1,42)\n",
      "LexToken(EQUALS,'=',1,47)\n",
      "LexToken(NUMBER,'50',1,48)\n"
     ]
    }
   ],
   "source": [
    "tokenize('imp --img=\"path/to/image.png\" | bw | blur --lvl=50')"
   ]
  }
 ],
 "metadata": {
  "kernelspec": {
   "display_name": "Python 3",
   "language": "python",
   "name": "python3"
  },
  "language_info": {
   "codemirror_mode": {
    "name": "ipython",
    "version": 3
   },
   "file_extension": ".py",
   "mimetype": "text/x-python",
   "name": "python",
   "nbconvert_exporter": "python",
   "pygments_lexer": "ipython3",
   "version": "3.11.5"
  }
 },
 "nbformat": 4,
 "nbformat_minor": 2
}
