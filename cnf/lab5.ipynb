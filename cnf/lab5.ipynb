{
 "cells": [
  {
   "cell_type": "markdown",
   "metadata": {},
   "source": [
    "# Laboratory 5 - Chomsky Normal Form"
   ]
  },
  {
   "cell_type": "code",
   "execution_count": 1,
   "metadata": {},
   "outputs": [],
   "source": [
    "from Grammar import Grammar\n",
    "from constants import *"
   ]
  },
  {
   "cell_type": "markdown",
   "metadata": {},
   "source": [
    "## Variant 29"
   ]
  },
  {
   "cell_type": "markdown",
   "metadata": {},
   "source": [
    "$$\n",
    "\\begin{aligned}\n",
    "G &= (V_N, V_T, P, S) \\\\\n",
    "V_N &= \\{S, A, B, C, D\\} \\\\\n",
    "V_T &= \\{a, b\\} \\\\\n",
    "P &= \\left\\{ \\begin{array}{l}\n",
    "  S \\to aB \\,|\\, DA \\\\\n",
    "  A \\to a \\,|\\, BD \\,|\\, aDADB \\\\\n",
    "  B \\to b \\,|\\, ASB \\\\\n",
    "  C \\to BA \\\\\n",
    "  D \\to BA \\,|\\, \\varepsilon\\\\\n",
    "\\end{array} \\right.\n",
    "\\end{aligned}\n",
    "$$"
   ]
  },
  {
   "cell_type": "code",
   "execution_count": 2,
   "metadata": {},
   "outputs": [
    {
     "name": "stdout",
     "output_type": "stream",
     "text": [
      "Original grammar:\n",
      "S -> aB | DA\n",
      "A -> a | BD | aDADB\n",
      "B -> b | ASB\n",
      "C -> BA\n",
      "D -> BA | ε\n"
     ]
    }
   ],
   "source": [
    "non_terminals = ['S', 'A', 'B', 'C', 'D']\n",
    "terminals = ['a', 'b']\n",
    "rules = {\n",
    "    'S': ['aB', 'DA'],\n",
    "    'A': ['a', 'BD', 'aDADB'],\n",
    "    'B': ['b', 'ASB'],\n",
    "    'C': ['BA'],\n",
    "    'D': ['BA', EPSILON]\n",
    "}\n",
    "\n",
    "grammar = Grammar(non_terminals, terminals, rules)\n",
    "\n",
    "print('Original grammar:')\n",
    "grammar.print_rules()"
   ]
  },
  {
   "cell_type": "code",
   "execution_count": 3,
   "metadata": {},
   "outputs": [
    {
     "name": "stdout",
     "output_type": "stream",
     "text": [
      "1. After eliminating epsilon productions:\n",
      "S -> A | DA | aB\n",
      "A -> B | a | BD | aDADB | aADB | aDAB | aAB\n",
      "B -> ASB | b\n",
      "C -> BA\n",
      "D -> BA\n",
      "\n",
      "2. After eliminating renaming productions:\n",
      "S -> a | BD | DA | aB | aDADB | aADB | aDAB | aAB\n",
      "A -> b | a | BD | aADB | aDADB | ASB | aDAB | aAB\n",
      "B -> ASB | b\n",
      "C -> BA\n",
      "D -> BA\n",
      "\n",
      "3. After eliminating inaccessible symbols:\n",
      "A -> b | a | BD | aADB | aDADB | ASB | aDAB | aAB\n",
      "D -> BA\n",
      "B -> ASB | b\n",
      "S -> a | BD | DA | aB | aDADB | aADB | aDAB | aAB\n",
      "\n",
      "4. After eliminating non-productive symbols:\n",
      "A -> b | a | BD | aADB | aDADB | ASB | aDAB | aAB\n",
      "D -> BA\n",
      "B -> ASB | b\n",
      "S -> a | BD | DA | aB | aDADB | aADB | aDAB | aAB\n",
      "\n",
      "5. After converting to CNF:\n",
      "A -> b | 1B | a | 5B | BD | 0B | 4B | 3B\n",
      "D -> BA\n",
      "B -> b | 5B\n",
      "S -> 1B | 6B | a | BD | DA | 0B | 4B | 3B\n",
      "6 -> a\n",
      "2 -> 6D\n",
      "4 -> 3D\n",
      "5 -> AS\n",
      "0 -> 6A\n",
      "3 -> 2A\n",
      "1 -> 0D\n",
      "\n"
     ]
    }
   ],
   "source": [
    "grammar.to_cnf()"
   ]
  },
  {
   "cell_type": "markdown",
   "metadata": {},
   "source": [
    "## Testing the methods of the variant 29 Grammar"
   ]
  },
  {
   "cell_type": "code",
   "execution_count": 4,
   "metadata": {},
   "outputs": [
    {
     "name": "stderr",
     "output_type": "stream",
     "text": [
      ".......\n",
      "----------------------------------------------------------------------\n",
      "Ran 7 tests in 0.005s\n",
      "\n",
      "OK\n"
     ]
    },
    {
     "data": {
      "text/plain": [
       "<unittest.main.TestProgram at 0x7f8325ffb750>"
      ]
     },
     "execution_count": 4,
     "metadata": {},
     "output_type": "execute_result"
    }
   ],
   "source": [
    "import unittest\n",
    "from test_grammar import TestGrammar\n",
    "\n",
    "unittest.main(argv=[''], exit=False)"
   ]
  },
  {
   "cell_type": "markdown",
   "metadata": {},
   "source": [
    "## Variant 20"
   ]
  },
  {
   "cell_type": "markdown",
   "metadata": {},
   "source": [
    "$$\n",
    "\\begin{aligned}\n",
    "G &= (V_N, V_T, P, S) \\\\\n",
    "V_N &= \\{S, A, B, C, D\\} \\\\\n",
    "V_T &= \\{a, b\\} \\\\\n",
    "P &= \\left\\{ \\begin{array}{l}\n",
    "  S \\to aB \\,|\\, bA \\,|\\, A \\\\\n",
    "  A \\to B \\,|\\, Sa \\,|\\, bBA \\,|\\ b \\\\\n",
    "  B \\to b \\,|\\, bS \\,|\\ aD \\,|\\ \\varepsilon \\\\\n",
    "  C \\to bA \\\\\n",
    "  D \\to AA\\\\\n",
    "\\end{array} \\right.\n",
    "\\end{aligned}\n",
    "$$"
   ]
  },
  {
   "cell_type": "code",
   "execution_count": 5,
   "metadata": {},
   "outputs": [
    {
     "name": "stdout",
     "output_type": "stream",
     "text": [
      "New grammar:\n",
      "S -> aB | bA | A\n",
      "A -> B | Sa | bBA | b\n",
      "B -> b | bS | aD | ε\n",
      "C -> bA\n",
      "D -> AA\n",
      "\n",
      "Converting to CNF:\n",
      "1. After eliminating epsilon productions:\n",
      "S -> b | A | bA | a | aB\n",
      "A -> B | bB | b | Sa | bA | a | bBA\n",
      "B -> aD | bS | b | a\n",
      "C -> bA | b\n",
      "D -> A | AA\n",
      "\n",
      "2. After eliminating renaming productions:\n",
      "S -> b | bB | Sa | bA | a | aB | bBA\n",
      "A -> bS | b | bB | Sa | bA | a | bBA | aD\n",
      "B -> aD | bS | b | a\n",
      "C -> bA | b\n",
      "D -> bS | bB | b | Sa | bA | a | AA | bBA | aD\n",
      "\n",
      "3. After eliminating inaccessible symbols:\n",
      "A -> bS | b | bB | Sa | bA | a | bBA | aD\n",
      "D -> bS | bB | b | Sa | bA | a | AA | bBA | aD\n",
      "B -> aD | bS | b | a\n",
      "S -> b | bB | Sa | bA | a | aB | bBA\n",
      "\n",
      "4. After eliminating non-productive symbols:\n",
      "A -> bS | b | bB | Sa | bA | a | bBA | aD\n",
      "D -> bS | bB | b | Sa | bA | a | AA | bBA | aD\n",
      "B -> aD | bS | b | a\n",
      "S -> b | bB | Sa | bA | a | aB | bBA\n",
      "\n",
      "5. After converting to CNF:\n",
      "A -> b | a | 0A | 1B | S2 | 1A | 1S | 2D\n",
      "D -> b | a | 0A | 1B | S2 | AA | 1A | 1S | 2D\n",
      "B -> b | a | 1S | 2D\n",
      "S -> 2B | b | a | 0A | 1B | S2 | 1A\n",
      "0 -> 1B\n",
      "2 -> a\n",
      "1 -> b\n",
      "\n"
     ]
    }
   ],
   "source": [
    "non_terminals = ['S', 'A', 'B', 'C', 'D']\n",
    "terminals = ['a', 'b']\n",
    "rules = {\n",
    "    'S': ['aB', 'bA', 'A'],\n",
    "    'A': ['B', 'Sa', 'bBA', 'b'],\n",
    "    'B': ['b', 'bS', 'aD', EPSILON],\n",
    "    'C': ['bA'],\n",
    "    'D': ['AA']\n",
    "}\n",
    "\n",
    "grammar = Grammar(non_terminals, terminals, rules)\n",
    "\n",
    "print('New grammar:')\n",
    "grammar.print_rules()\n",
    "print('\\nConverting to CNF:')\n",
    "grammar.to_cnf()"
   ]
  },
  {
   "cell_type": "markdown",
   "metadata": {},
   "source": [
    "## Internet Example"
   ]
  },
  {
   "cell_type": "markdown",
   "metadata": {},
   "source": [
    "$$\n",
    "\\begin{aligned}\n",
    "G &= (V_N, V_T, P, S) \\\\\n",
    "V_N &= \\{S, A, B\\} \\\\\n",
    "V_T &= \\{a, b\\} \\\\\n",
    "P &= \\left\\{ \\begin{array}{l}\n",
    "  S \\to ASB \\\\\n",
    "  A \\to aAS \\,|\\, a \\,|\\, \\varepsilon \\\\\n",
    "  B \\to SbS \\,|\\, A \\,|\\ b \\\\\n",
    "\\end{array} \\right.\n",
    "\\end{aligned}\n",
    "$$"
   ]
  },
  {
   "cell_type": "code",
   "execution_count": 6,
   "metadata": {},
   "outputs": [
    {
     "name": "stdout",
     "output_type": "stream",
     "text": [
      "New grammar:\n",
      "S -> ASB\n",
      "A -> aAS | a | ε\n",
      "B -> SbS | A | bb\n",
      "\n",
      "Converting to CNF:\n",
      "1. After eliminating epsilon productions:\n",
      "S -> S | ASB | SB | AS\n",
      "A -> aAS | a | aS\n",
      "B -> A | SbS | bb\n",
      "\n",
      "2. After eliminating renaming productions:\n",
      "S -> ASB | SB | AS\n",
      "A -> aAS | a | aS\n",
      "B -> SbS | a | aS | bb | aAS\n",
      "\n",
      "3. After eliminating inaccessible symbols:\n",
      "A -> aAS | a | aS\n",
      "B -> SbS | a | aS | bb | aAS\n",
      "S -> ASB | SB | AS\n",
      "\n",
      "4. After eliminating non-productive symbols:\n",
      "A -> aAS | a | aS\n",
      "B -> SbS | a | aS | bb | aAS\n",
      "S -> ASB | SB | AS\n",
      "\n",
      "5. After converting to CNF:\n",
      "A -> 0S | a | 3S\n",
      "B -> 3S | a | 1S | 0S | 44\n",
      "S -> AS | SB | 2B\n",
      "2 -> AS\n",
      "4 -> b\n",
      "0 -> 3A\n",
      "3 -> a\n",
      "1 -> S4\n",
      "\n"
     ]
    }
   ],
   "source": [
    "non_terminals = ['S', 'A', 'B']\n",
    "terminals = ['a', 'b']\n",
    "rules = {\n",
    "    'S': ['ASB'],\n",
    "    'A': ['aAS', 'a', EPSILON],\n",
    "    'B': ['SbS', 'A', 'bb'],\n",
    "}\n",
    "\n",
    "grammar = Grammar(non_terminals, terminals, rules)\n",
    "\n",
    "print('New grammar:')\n",
    "grammar.print_rules()\n",
    "print('\\nConverting to CNF:')\n",
    "grammar.to_cnf()"
   ]
  },
  {
   "cell_type": "markdown",
   "metadata": {},
   "source": [
    "## Example with non-productive symbols"
   ]
  },
  {
   "cell_type": "markdown",
   "metadata": {},
   "source": [
    "$$\n",
    "\\begin{aligned}\n",
    "G &= (V_N, V_T, P, S) \\\\\n",
    "V_N &= \\{S, A, B, C, D, E, F\\} \\\\\n",
    "V_T &= \\{a, b\\} \\\\\n",
    "P &= \\left\\{ \\begin{array}{l}\n",
    "  S \\to aB \\,|\\, DA \\,|\\, EC \\\\\n",
    "  A \\to a \\,|\\, BD \\,|\\, aDADB \\,|\\ FE \\\\\n",
    "  B \\to b \\,|\\, ASB \\\\\n",
    "  C \\to ba \\,|\\, EF \\\\\n",
    "  D \\to BA \\,|\\, \\varepsilon\\\\\n",
    "  E \\to FA \\\\\n",
    "  F \\to EB \\\\\n",
    "\\end{array} \\right.\n",
    "\\end{aligned}\n",
    "$$"
   ]
  },
  {
   "cell_type": "code",
   "execution_count": 7,
   "metadata": {},
   "outputs": [
    {
     "name": "stdout",
     "output_type": "stream",
     "text": [
      "New grammar:\n",
      "S -> aB | DA | EC\n",
      "A -> a | BD | aDADB | FE\n",
      "B -> b | ASB\n",
      "C -> BA | EF\n",
      "D -> BA | ε\n",
      "E -> FA\n",
      "F -> EB\n",
      "\n",
      "Converting to CNF:\n",
      "1. After eliminating epsilon productions:\n",
      "S -> A | DA | aB | EC\n",
      "A -> B | FE | a | BD | aDADB | aADB | aDAB | aAB\n",
      "B -> ASB | b\n",
      "C -> BA | EF\n",
      "D -> BA\n",
      "E -> FA\n",
      "F -> EB\n",
      "\n",
      "2. After eliminating renaming productions:\n",
      "S -> EC | FE | a | BD | DA | aB | aDADB | aADB | aDAB | aAB\n",
      "A -> FE | b | a | BD | aADB | aDADB | ASB | aDAB | aAB\n",
      "B -> ASB | b\n",
      "C -> BA | EF\n",
      "D -> BA\n",
      "E -> FA\n",
      "F -> EB\n",
      "\n",
      "3. After eliminating inaccessible symbols:\n",
      "B -> ASB | b\n",
      "E -> FA\n",
      "C -> BA | EF\n",
      "F -> EB\n",
      "A -> FE | b | a | BD | aADB | aDADB | ASB | aDAB | aAB\n",
      "D -> BA\n",
      "S -> EC | FE | a | BD | DA | aB | aDADB | aADB | aDAB | aAB\n",
      "\n",
      "4. After eliminating non-productive symbols:\n",
      "B -> ASB | b\n",
      "C -> BA\n",
      "A -> b | a | BD | aADB | aDADB | ASB | aDAB | aAB\n",
      "D -> BA\n",
      "S -> a | BD | DA | aB | aDADB | aADB | aDAB | aAB\n",
      "\n",
      "5. After converting to CNF:\n",
      "B -> 0B | b\n",
      "C -> BA\n",
      "A -> 2B | b | 1B | a | 5B | BD | 0B | 4B\n",
      "D -> BA\n",
      "S -> 2B | 1B | 6B | a | 5B | BD | DA | 4B\n",
      "6 -> a\n",
      "2 -> 1D\n",
      "4 -> 3A\n",
      "5 -> 4D\n",
      "0 -> AS\n",
      "3 -> 6D\n",
      "1 -> 6A\n",
      "\n"
     ]
    }
   ],
   "source": [
    "non_terminals = ['S', 'A', 'B', 'C', 'D', 'E', 'F']\n",
    "terminals = ['a', 'b']\n",
    "rules = {\n",
    "    'S': ['aB', 'DA', 'EC'],\n",
    "    'A': ['a', 'BD', 'aDADB', 'FE'],\n",
    "    'B': ['b', 'ASB'],\n",
    "    'C': ['BA', 'EF'],  # Non-productive \n",
    "    'D': ['BA', EPSILON], \n",
    "    'E': ['FA'], # Non-productive\n",
    "    'F': ['EB'], # Non-productive\n",
    "}\n",
    "\n",
    "grammar = Grammar(non_terminals, terminals, rules)\n",
    "\n",
    "print('New grammar:')\n",
    "grammar.print_rules()\n",
    "\n",
    "print('\\nConverting to CNF:')\n",
    "grammar.to_cnf()"
   ]
  }
 ],
 "metadata": {
  "kernelspec": {
   "display_name": "Python 3",
   "language": "python",
   "name": "python3"
  },
  "language_info": {
   "codemirror_mode": {
    "name": "ipython",
    "version": 3
   },
   "file_extension": ".py",
   "mimetype": "text/x-python",
   "name": "python",
   "nbconvert_exporter": "python",
   "pygments_lexer": "ipython3",
   "version": "3.11.5"
  }
 },
 "nbformat": 4,
 "nbformat_minor": 2
}
