{
 "cells": [
  {
   "cell_type": "markdown",
   "metadata": {},
   "source": [
    "# Laboratory 5 - Chomsky Normal Form"
   ]
  },
  {
   "cell_type": "code",
   "execution_count": 1,
   "metadata": {},
   "outputs": [],
   "source": [
    "from Grammar import Grammar\n",
    "from constants import *"
   ]
  },
  {
   "cell_type": "markdown",
   "metadata": {},
   "source": [
    "## Variant 29 (assigned to me)"
   ]
  },
  {
   "cell_type": "markdown",
   "metadata": {},
   "source": [
    "$$\n",
    "\\begin{aligned}\n",
    "G &= (V_N, V_T, P, S) \\\\\n",
    "V_N &= \\{S, A, B, C, D\\} \\\\\n",
    "V_T &= \\{a, b\\} \\\\\n",
    "P &= \\left\\{ \\begin{array}{l}\n",
    "  S \\to aB \\,|\\, DA \\\\\n",
    "  A \\to a \\,|\\, BD \\,|\\, aDADB \\\\\n",
    "  B \\to b \\,|\\, ASB \\\\\n",
    "  C \\to BA \\\\\n",
    "  D \\to BA \\,|\\, \\varepsilon\\\\\n",
    "\\end{array} \\right.\n",
    "\\end{aligned}\n",
    "$$"
   ]
  },
  {
   "cell_type": "code",
   "execution_count": 2,
   "metadata": {},
   "outputs": [
    {
     "name": "stdout",
     "output_type": "stream",
     "text": [
      "Original grammar:\n",
      "S -> aB | DA\n",
      "A -> a | BD | aDADB\n",
      "B -> b | ASB\n",
      "C -> BA\n",
      "D -> BA | ε\n"
     ]
    }
   ],
   "source": [
    "non_terminals = ['S', 'A', 'B', 'C', 'D']\n",
    "terminals = ['a', 'b']\n",
    "rules = {\n",
    "    'S': ['aB', 'DA'],\n",
    "    'A': ['a', 'BD', 'aDADB'],\n",
    "    'B': ['b', 'ASB'],\n",
    "    'C': ['BA'],\n",
    "    'D': ['BA', EPSILON]\n",
    "}\n",
    "\n",
    "grammar = Grammar(non_terminals, terminals, rules)\n",
    "\n",
    "print('Original grammar:')\n",
    "grammar.print_rules()"
   ]
  },
  {
   "cell_type": "code",
   "execution_count": 3,
   "metadata": {},
   "outputs": [
    {
     "name": "stdout",
     "output_type": "stream",
     "text": [
      "1. After eliminating epsilon productions:\n",
      "S -> A | aB | DA\n",
      "A -> B | BD | aDAB | aADB | a | aAB | aDADB\n",
      "B -> ASB | b\n",
      "C -> BA\n",
      "D -> BA\n",
      "\n",
      "2. After eliminating renaming productions:\n",
      "S -> aB | DA | BD | aDAB | a | aAB | aDADB | aADB\n",
      "A -> BD | aDAB | a | aAB | ASB | b | aDADB | aADB\n",
      "B -> ASB | b\n",
      "C -> BA\n",
      "D -> BA\n",
      "\n",
      "3. After eliminating inaccessible symbols:\n",
      "A -> BD | aDAB | a | aAB | ASB | b | aDADB | aADB\n",
      "D -> BA\n",
      "B -> ASB | b\n",
      "S -> aB | DA | BD | aDAB | a | aAB | aDADB | aADB\n",
      "\n",
      "4. After eliminating non-productive symbols:\n",
      "A -> BD | aDAB | a | aAB | ASB | b | aDADB | aADB\n",
      "D -> BA\n",
      "B -> ASB | b\n",
      "S -> aB | DA | BD | aDAB | a | aAB | aDADB | aADB\n",
      "\n",
      "5. After converting to CNF:\n",
      "A -> 2B | 1B | BD | 3B | 4B | 5B | a | b\n",
      "D -> BA\n",
      "B -> 3B | b\n",
      "S -> 6B | DA | 2B | 1B | BD | 4B | 5B | a\n",
      "1 -> 0A\n",
      "2 -> 6A\n",
      "3 -> AS\n",
      "0 -> 6D\n",
      "4 -> 1D\n",
      "6 -> a\n",
      "5 -> 2D\n",
      "\n"
     ]
    }
   ],
   "source": [
    "grammar.to_cnf()"
   ]
  },
  {
   "cell_type": "markdown",
   "metadata": {},
   "source": [
    "## Testing the methods of the variant 29 Grammar"
   ]
  },
  {
   "cell_type": "code",
   "execution_count": 4,
   "metadata": {},
   "outputs": [
    {
     "name": "stderr",
     "output_type": "stream",
     "text": [
      ".......\n",
      "----------------------------------------------------------------------\n",
      "Ran 7 tests in 0.004s\n",
      "\n",
      "OK\n"
     ]
    },
    {
     "data": {
      "text/plain": [
       "<unittest.main.TestProgram at 0x7fbd09730d90>"
      ]
     },
     "execution_count": 4,
     "metadata": {},
     "output_type": "execute_result"
    }
   ],
   "source": [
    "import unittest\n",
    "from test_grammar import TestGrammar\n",
    "\n",
    "unittest.main(argv=[''], exit=False)"
   ]
  },
  {
   "cell_type": "markdown",
   "metadata": {},
   "source": [
    "## Variant 20"
   ]
  },
  {
   "cell_type": "markdown",
   "metadata": {},
   "source": [
    "$$\n",
    "\\begin{aligned}\n",
    "G &= (V_N, V_T, P, S) \\\\\n",
    "V_N &= \\{S, A, B, C, D\\} \\\\\n",
    "V_T &= \\{a, b\\} \\\\\n",
    "P &= \\left\\{ \\begin{array}{l}\n",
    "  S \\to aB \\,|\\, bA \\,|\\, A \\\\\n",
    "  A \\to B \\,|\\, Sa \\,|\\, bBA \\,|\\ b \\\\\n",
    "  B \\to b \\,|\\, bS \\,|\\ aD \\,|\\ \\varepsilon \\\\\n",
    "  C \\to bA \\\\\n",
    "  D \\to AA\\\\\n",
    "\\end{array} \\right.\n",
    "\\end{aligned}\n",
    "$$"
   ]
  },
  {
   "cell_type": "code",
   "execution_count": 5,
   "metadata": {},
   "outputs": [
    {
     "name": "stdout",
     "output_type": "stream",
     "text": [
      "New grammar:\n",
      "S -> aB | bA | A\n",
      "A -> B | Sa | bBA | b\n",
      "B -> b | bS | aD | ε\n",
      "C -> bA\n",
      "D -> AA\n",
      "\n",
      "Converting to CNF:\n",
      "1. After eliminating epsilon productions:\n",
      "S -> A | aB | a | b | bA\n",
      "A -> Sa | B | a | bB | b | bA | bBA\n",
      "B -> aD | a | b | bS\n",
      "C -> b | bA\n",
      "D -> A | AA\n",
      "\n",
      "2. After eliminating renaming productions:\n",
      "S -> Sa | aB | a | bB | b | bA | bBA\n",
      "A -> Sa | aD | a | bB | b | bA | bS | bBA\n",
      "B -> aD | a | b | bS\n",
      "C -> b | bA\n",
      "D -> Sa | AA | bBA | a | bB | b | bA | bS | aD\n",
      "\n",
      "3. After eliminating inaccessible symbols:\n",
      "A -> Sa | aD | a | bB | b | bA | bS | bBA\n",
      "D -> Sa | AA | bBA | a | bB | b | bA | bS | aD\n",
      "B -> aD | a | b | bS\n",
      "S -> Sa | aB | a | bB | b | bA | bBA\n",
      "\n",
      "4. After eliminating non-productive symbols:\n",
      "A -> Sa | aD | a | bB | b | bA | bS | bBA\n",
      "D -> Sa | AA | bBA | a | bB | b | bA | bS | aD\n",
      "B -> aD | a | b | bS\n",
      "S -> Sa | aB | a | bB | b | bA | bBA\n",
      "\n",
      "5. After converting to CNF:\n",
      "A -> 0A | 2B | 2A | 2S | a | b | S1 | 1D\n",
      "D -> 1D | AA | 2B | 2A | 2S | a | b | 0A | S1\n",
      "B -> a | 2S | b | 1D\n",
      "S -> 0A | 2B | 1B | 2A | a | b | S1\n",
      "1 -> a\n",
      "2 -> b\n",
      "0 -> 2B\n",
      "\n"
     ]
    }
   ],
   "source": [
    "non_terminals = ['S', 'A', 'B', 'C', 'D']\n",
    "terminals = ['a', 'b']\n",
    "rules = {\n",
    "    'S': ['aB', 'bA', 'A'],\n",
    "    'A': ['B', 'Sa', 'bBA', 'b'],\n",
    "    'B': ['b', 'bS', 'aD', EPSILON],\n",
    "    'C': ['bA'],\n",
    "    'D': ['AA']\n",
    "}\n",
    "\n",
    "grammar = Grammar(non_terminals, terminals, rules)\n",
    "\n",
    "print('New grammar:')\n",
    "grammar.print_rules()\n",
    "print('\\nConverting to CNF:')\n",
    "grammar.to_cnf()"
   ]
  },
  {
   "cell_type": "markdown",
   "metadata": {},
   "source": [
    "## Example 3"
   ]
  },
  {
   "cell_type": "markdown",
   "metadata": {},
   "source": [
    "$$\n",
    "\\begin{aligned}\n",
    "G &= (V_N, V_T, P, S) \\\\\n",
    "V_N &= \\{S, A, B\\} \\\\\n",
    "V_T &= \\{a, b\\} \\\\\n",
    "P &= \\left\\{ \\begin{array}{l}\n",
    "  S \\to ASB \\\\\n",
    "  A \\to aAS \\,|\\, a \\,|\\, \\varepsilon \\\\\n",
    "  B \\to SbS \\,|\\, A \\,|\\ b \\\\\n",
    "\\end{array} \\right.\n",
    "\\end{aligned}\n",
    "$$"
   ]
  },
  {
   "cell_type": "code",
   "execution_count": 6,
   "metadata": {},
   "outputs": [
    {
     "name": "stdout",
     "output_type": "stream",
     "text": [
      "New grammar:\n",
      "S -> ASB\n",
      "A -> aAS | a | ε\n",
      "B -> SbS | A | bb\n",
      "\n",
      "Converting to CNF:\n",
      "1. After eliminating epsilon productions:\n",
      "S -> SB | ASB | AS | S\n",
      "A -> aAS | a | aS\n",
      "B -> A | SbS | bb\n",
      "\n",
      "2. After eliminating renaming productions:\n",
      "S -> SB | ASB | AS\n",
      "A -> aAS | a | aS\n",
      "B -> aAS | a | SbS | bb | aS\n",
      "\n",
      "3. After eliminating inaccessible symbols:\n",
      "A -> aAS | a | aS\n",
      "B -> aAS | a | SbS | bb | aS\n",
      "S -> SB | ASB | AS\n",
      "\n",
      "4. After eliminating non-productive symbols:\n",
      "A -> aAS | a | aS\n",
      "B -> aAS | a | SbS | bb | aS\n",
      "S -> SB | ASB | AS\n",
      "\n",
      "5. After converting to CNF:\n",
      "A -> 0S | a | 3S\n",
      "B -> 1S | 3S | a | 44 | 0S\n",
      "S -> SB | AS | 2B\n",
      "1 -> S4\n",
      "2 -> AS\n",
      "3 -> a\n",
      "0 -> 3A\n",
      "4 -> b\n",
      "\n"
     ]
    }
   ],
   "source": [
    "non_terminals = ['S', 'A', 'B']\n",
    "terminals = ['a', 'b']\n",
    "rules = {\n",
    "    'S': ['ASB'],\n",
    "    'A': ['aAS', 'a', EPSILON],\n",
    "    'B': ['SbS', 'A', 'bb'],\n",
    "}\n",
    "\n",
    "grammar = Grammar(non_terminals, terminals, rules)\n",
    "\n",
    "print('New grammar:')\n",
    "grammar.print_rules()\n",
    "print('\\nConverting to CNF:')\n",
    "grammar.to_cnf()"
   ]
  },
  {
   "cell_type": "markdown",
   "metadata": {},
   "source": [
    "## Example with non-productive symbols"
   ]
  },
  {
   "cell_type": "markdown",
   "metadata": {},
   "source": [
    "$$\n",
    "\\begin{aligned}\n",
    "G &= (V_N, V_T, P, S) \\\\\n",
    "V_N &= \\{S, A, B, C, D, E, F\\} \\\\\n",
    "V_T &= \\{a, b\\} \\\\\n",
    "P &= \\left\\{ \\begin{array}{l}\n",
    "  S \\to aB \\,|\\, DA \\,|\\, EC \\\\\n",
    "  A \\to a \\,|\\, BD \\,|\\, aDADB \\,|\\ FE \\\\\n",
    "  B \\to b \\,|\\, ASB \\\\\n",
    "  C \\to ba \\,|\\, EF \\\\\n",
    "  D \\to BA \\,|\\, \\varepsilon\\\\\n",
    "  E \\to FA \\\\\n",
    "  F \\to EB \\\\\n",
    "\\end{array} \\right.\n",
    "\\end{aligned}\n",
    "$$"
   ]
  },
  {
   "cell_type": "code",
   "execution_count": 7,
   "metadata": {},
   "outputs": [
    {
     "name": "stdout",
     "output_type": "stream",
     "text": [
      "New grammar:\n",
      "S -> aB | DA | EC\n",
      "A -> a | BD | aDADB | FE\n",
      "B -> b | ASB\n",
      "C -> BA | EF\n",
      "D -> BA | ε\n",
      "E -> FA\n",
      "F -> EB\n",
      "\n",
      "Converting to CNF:\n",
      "1. After eliminating epsilon productions:\n",
      "S -> EC | A | aB | DA\n",
      "A -> B | BD | aDAB | aADB | a | aAB | FE | aDADB\n",
      "B -> ASB | b\n",
      "C -> EF | BA\n",
      "D -> BA\n",
      "E -> FA\n",
      "F -> EB\n",
      "\n",
      "2. After eliminating renaming productions:\n",
      "S -> aB | DA | BD | aDAB | EC | a | aAB | FE | aDADB | aADB\n",
      "A -> BD | aDAB | a | aAB | ASB | FE | b | aDADB | aADB\n",
      "B -> ASB | b\n",
      "C -> EF | BA\n",
      "D -> BA\n",
      "E -> FA\n",
      "F -> EB\n",
      "\n",
      "3. After eliminating inaccessible symbols:\n",
      "A -> BD | aDAB | a | aAB | ASB | FE | b | aDADB | aADB\n",
      "B -> ASB | b\n",
      "D -> BA\n",
      "E -> FA\n",
      "S -> aB | DA | BD | aDAB | EC | a | aAB | FE | aDADB | aADB\n",
      "F -> EB\n",
      "C -> EF | BA\n",
      "\n",
      "4. After eliminating non-productive symbols:\n",
      "A -> BD | aDAB | a | aAB | ASB | b | aDADB | aADB\n",
      "B -> ASB | b\n",
      "D -> BA\n",
      "S -> aB | DA | BD | aDAB | a | aAB | aDADB | aADB\n",
      "C -> BA\n",
      "\n",
      "5. After converting to CNF:\n",
      "A -> 2B | 1B | BD | 3B | 4B | 5B | a | b\n",
      "B -> 3B | b\n",
      "D -> BA\n",
      "S -> 6B | DA | 2B | 1B | BD | 4B | 5B | a\n",
      "C -> BA\n",
      "1 -> 0A\n",
      "2 -> 6A\n",
      "3 -> AS\n",
      "0 -> 6D\n",
      "4 -> 1D\n",
      "6 -> a\n",
      "5 -> 2D\n",
      "\n"
     ]
    }
   ],
   "source": [
    "non_terminals = ['S', 'A', 'B', 'C', 'D', 'E', 'F']\n",
    "terminals = ['a', 'b']\n",
    "rules = {\n",
    "    'S': ['aB', 'DA', 'EC'],\n",
    "    'A': ['a', 'BD', 'aDADB', 'FE'],\n",
    "    'B': ['b', 'ASB'],\n",
    "    'C': ['BA', 'EF'],  # Non-productive \n",
    "    'D': ['BA', EPSILON], \n",
    "    'E': ['FA'], # Non-productive\n",
    "    'F': ['EB'], # Non-productive\n",
    "}\n",
    "\n",
    "grammar = Grammar(non_terminals, terminals, rules)\n",
    "\n",
    "print('New grammar:')\n",
    "grammar.print_rules()\n",
    "\n",
    "print('\\nConverting to CNF:')\n",
    "grammar.to_cnf()"
   ]
  }
 ],
 "metadata": {
  "kernelspec": {
   "display_name": "Python 3",
   "language": "python",
   "name": "python3"
  },
  "language_info": {
   "codemirror_mode": {
    "name": "ipython",
    "version": 3
   },
   "file_extension": ".py",
   "mimetype": "text/x-python",
   "name": "python",
   "nbconvert_exporter": "python",
   "pygments_lexer": "ipython3",
   "version": "3.11.5"
  }
 },
 "nbformat": 4,
 "nbformat_minor": 2
}
